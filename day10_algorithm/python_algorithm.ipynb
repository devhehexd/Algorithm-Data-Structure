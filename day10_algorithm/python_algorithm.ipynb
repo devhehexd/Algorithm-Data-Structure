{
 "cells": [
  {
   "cell_type": "code",
   "execution_count": 3,
   "metadata": {},
   "outputs": [
    {
     "name": "stderr",
     "output_type": "stream",
     "text": [
      "<>:2: SyntaxWarning: invalid escape sequence '\\A'\n",
      "<>:2: SyntaxWarning: invalid escape sequence '\\A'\n",
      "C:\\Users\\MZC-USER\\AppData\\Local\\Temp\\ipykernel_17092\\202710484.py:2: SyntaxWarning: invalid escape sequence '\\A'\n",
      "  sys.stdin = open(\"D:\\Algorithm_Data_Structure\\day10_python_algorithm\\input.txt\")\n"
     ]
    }
   ],
   "source": [
    "import sys\n",
    "sys.stdin = open(\"D:\\Algorithm_Data_Structure\\day10_python_algorithm\\input.txt\")\n",
    "\n",
    "import sys\n",
    "input = sys.stdin.readline\n",
    "\n",
    "V = int(input())\n",
    "E = int(input())\n",
    "\n",
    "# 인접 리스트 그래프\n",
    "graph = []\n",
    "\n",
    "# 정점의 수 만큼 빈 리스트 추가\n",
    "for _ in range(V):\n",
    "  temp = []\n",
    "  graph.append(temp)\n",
    "\n",
    "\n",
    "# 간선 정보 입력\n",
    "for _ in range(E):\n",
    "  start, end = list(map(int, input().strip().split()))\n",
    "  graph[start].append(end)\n",
    "\n",
    "# for row in graph:\n",
    "#   print(row)\n",
    "\n",
    "# 재귀함수를 활용한 dfs\n",
    "def dfs(node):\n",
    "  # bfs라면 node = queue.popleft()\n",
    "  \n",
    "  # 인접 노드를 탐색\n",
    "  for adj_node in graph[node]:\n",
    "    # 인접 노드 방문 확인\n",
    "    if visited[adj_node] == False:\n",
    "      # 인접 노드에 대해 방문처리\n",
    "      visited[adj_node] == True\n",
    "      # 스택에 인접 노드를 저장\n",
    "      # bfs라면 queue.append(node)\n",
    "      # 스택을 활용하면 stack.append(node)\n",
    "      dfs(adj_node)\n",
    "\n",
    "# 리스트의 in 시간복잡도가 O(n), 탐색\n",
    "# 리스트의 인덱싱 [index] 시간복잡도가 O(1), 접근\n",
    "\n",
    "# 방문 확인 변수\n",
    "visited = [False] * V\n",
    "# visited = [False, False, False, False, False, False, False]\n",
    "# 0번 노드 방문 확인 visited[0] == False:\n",
    "\n",
    "# 시작 노드 처리\n",
    "start = 0\n",
    "visited[start] = True\n",
    "\n",
    "# DFS 시작\n",
    "dfs(start)\n"
   ]
  }
 ],
 "metadata": {
  "kernelspec": {
   "display_name": "Python 3",
   "language": "python",
   "name": "python3"
  },
  "language_info": {
   "codemirror_mode": {
    "name": "ipython",
    "version": 3
   },
   "file_extension": ".py",
   "mimetype": "text/x-python",
   "name": "python",
   "nbconvert_exporter": "python",
   "pygments_lexer": "ipython3",
   "version": "3.12.6"
  }
 },
 "nbformat": 4,
 "nbformat_minor": 2
}
