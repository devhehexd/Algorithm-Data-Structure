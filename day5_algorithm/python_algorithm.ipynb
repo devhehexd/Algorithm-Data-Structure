{
 "cells": [
  {
   "cell_type": "code",
   "execution_count": 3,
   "metadata": {},
   "outputs": [
    {
     "name": "stdout",
     "output_type": "stream",
     "text": [
      "deque([-1, 0])\n",
      "deque([0])\n",
      "0\n"
     ]
    }
   ],
   "source": [
    "# deque 객체 불러오기\n",
    "from collections import deque\n",
    "\n",
    "# deque 생성\n",
    "deque_ = deque()\n",
    "\n",
    "# 데이터 추가\n",
    "deque_.append(0)\n",
    "deque_.appendleft(-1)\n",
    "\n",
    "print(deque_)\n",
    "\n",
    "# 데이터 제거\n",
    "deque_.popleft()\n",
    "print(deque_)\n",
    "# pop과 같이 popleft 또한 return 값이 있다\n",
    "number = deque_.popleft()\n",
    "print(number)"
   ]
  }
 ],
 "metadata": {
  "kernelspec": {
   "display_name": "Python 3",
   "language": "python",
   "name": "python3"
  },
  "language_info": {
   "codemirror_mode": {
    "name": "ipython",
    "version": 3
   },
   "file_extension": ".py",
   "mimetype": "text/x-python",
   "name": "python",
   "nbconvert_exporter": "python",
   "pygments_lexer": "ipython3",
   "version": "3.12.6"
  }
 },
 "nbformat": 4,
 "nbformat_minor": 2
}
