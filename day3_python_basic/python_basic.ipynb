{
 "cells": [
  {
   "cell_type": "code",
   "execution_count": null,
   "metadata": {},
   "outputs": [],
   "source": [
    "# 파이썬 함수\n",
    "\n",
    "# def 함수명(매개변수들):\n",
    "def function(param1, param2):\n",
    "  total = param1 + param2\n",
    "  \n",
    "  return total\n",
    "\n",
    "total = function(1, 2)\n",
    "\n",
    "print(total)"
   ]
  },
  {
   "cell_type": "code",
   "execution_count": 3,
   "metadata": {},
   "outputs": [
    {
     "name": "stdout",
     "output_type": "stream",
     "text": [
      "print() 함수는 반환값이 없는 함수\n",
      "None\n"
     ]
    }
   ],
   "source": [
    "variable = print(\"print() 함수는 반환값이 없는 함수\")\n",
    "print(variable)"
   ]
  },
  {
   "cell_type": "code",
   "execution_count": 5,
   "metadata": {},
   "outputs": [
    {
     "name": "stdout",
     "output_type": "stream",
     "text": [
      "[1, 2, 3]\n",
      "[4, 5, 6]\n",
      "[7, 8, 9]\n"
     ]
    }
   ],
   "source": [
    "# 중첩 반복문\n",
    "# 이차원 리스트의 순회를 위한 이중 반복문\n",
    "\n",
    "matrix = [\n",
    "  [1, 2, 3],\n",
    "  [4, 5, 6],\n",
    "  [7, 8, 9]\n",
    "]\n",
    "\n",
    "# 두번의 인덱싱을 통해 원소에 접근\n",
    "# [세로][가로] / [행][열] / [row][column]\n",
    "number = matrix[0][0]\n",
    "\n",
    "# 이중 반복문을 통한 이차원 리스트 순회\n",
    "# 세로 길이(n, N)와 가로길이(m, M)\n",
    "n = len(matrix)\n",
    "m = len(matrix[0])\n",
    "\n",
    "for y in range(n):\n",
    "  print(matrix[y])\n",
    "  for x in range(m):\n",
    "    print(matrix[y][x])"
   ]
  },
  {
   "cell_type": "code",
   "execution_count": 9,
   "metadata": {},
   "outputs": [
    {
     "name": "stdout",
     "output_type": "stream",
     "text": [
      "1 2 6\n",
      "2 1 8\n"
     ]
    }
   ],
   "source": [
    "matrix = [\n",
    "  [1, 2, 3],\n",
    "  [4, 5, 6],\n",
    "  [7, 8, 9]\n",
    "]\n",
    "\n",
    "n = len(matrix)\n",
    "m = len(matrix[0])\n",
    "\n",
    "y = 2\n",
    "x = 2\n",
    "\n",
    "dy = [-1, 1, 0, 0] # y에 대한 상하좌우 변화값\n",
    "dx = [0, 0, -1, 1] # x에 대한 상하좌우 변화값\n",
    "\n",
    "for d in range(4):\n",
    "  next_y = y + dy[d]\n",
    "  next_x = x + dx[d]\n",
    "  # 범위 조건문\n",
    "  if -1 < next_y < n and -1 <next_x < m :\n",
    "    print(next_y, next_x, matrix[next_y][next_x])\n",
    "\n"
   ]
  },
  {
   "cell_type": "code",
   "execution_count": null,
   "metadata": {},
   "outputs": [],
   "source": [
    "# 이차원 리스트의 모든 좌표에서의 델타 탐색\n",
    "# 1. 이차원 리스트의 이중 반복문을 통한 인덱스 순회\n",
    "# 2. 델타 탐색\n",
    "\n",
    "matrix = [\n",
    "  [1, 2, 3],\n",
    "  [4, 5, 6],\n",
    "  [7, 8, 9]\n",
    "]\n",
    "\n",
    "n = len(matrix) # 세로 길이\n",
    "m = len(matrix[0]) # 가로 길이\n",
    "\n",
    "# 모든 좌표에서의 델타 탐색 코드 작성\n",
    "\n",
    "for y in range(n):\n",
    "  for x in range(m):\n",
    "    # 델타 탐색의 기준 좌표 y, x\n",
    "    \n",
    "    # y, x에 대한 변화값\n",
    "    dy = [-1, 1, 0, 0]\n",
    "    dx = [0, 0, -1, 1]\n",
    "    \n",
    "    # 델타 탐색(4방향 탐색)\n",
    "    for d in range(4):\n",
    "      next_y = y + dy[d]\n",
    "      next_x = x + dx[d]\n",
    "      \n",
    "      # 범위에 대한 조건문\n",
    "      if -1 < next_y < n and -1 < next_x < m:\n",
    "        print(y, x, matrix[next_y][next_x])"
   ]
  },
  {
   "cell_type": "code",
   "execution_count": 14,
   "metadata": {},
   "outputs": [
    {
     "name": "stdout",
     "output_type": "stream",
     "text": [
      "[1, 2]\n",
      "[1, 2]\n"
     ]
    }
   ],
   "source": [
    "# 파이썬의 입력 경우의 수\n",
    "\n",
    "# 1. 정수(숫자) 1개를 입력하는 경우\n",
    "# number = int(input())\n",
    "\n",
    "# 2. 정수 2개를 입력하는 경우\n",
    "# 문자열 메서드 str.split(): 기준 문자열로 구분해서 나눈 리스트를 생성\n",
    "input_list = input().split(\" \") # 공백은 디폴트이기 때문에 \" \"를 굳이 써주지 않아도 된다\n",
    "# 문자열 원소들 -> 정수형 변환\n",
    "# 각 원소에 int() 함수를 적용해야할 필요가 있다\n",
    "new_list = []\n",
    "\n",
    "for number in input_list:\n",
    "  new_list.append(int(number))\n",
    "print(new_list)\n",
    "\n",
    "# 2. map() 함수 활용한 방법\n",
    "# map(함수, 컨테이너 자료형): 컨테이너의 원소에 함수를 적용한 결과를 리스트로 반환\n",
    "new_list = list(map(int, input_list))\n",
    "print(new_list)"
   ]
  },
  {
   "cell_type": "code",
   "execution_count": 17,
   "metadata": {},
   "outputs": [
    {
     "name": "stdout",
     "output_type": "stream",
     "text": [
      "3 3 3\n"
     ]
    }
   ],
   "source": [
    "# 파일 읽기를 통한 예제 입력\n",
    "import sys\n",
    "sys.stdin = open(\"./input.txt\", \"r\")\n",
    "\n",
    "# 언패킹: 리스트의 길이만큼 변수가 존재하면 원소 위치에 맞는 변수에 값이 저장\n",
    "N, M, K = list(map(int, input().split(\" \")))\n",
    "print(N, M, K)\n",
    "\n",
    "# 3. 이차원 리스트를 입력받는 경우\n",
    "# 세로 길이(N)가 꼭 필요하다.\n",
    "# 일차원 리스트들을 저장할 빈 리스트 변수\n",
    "matrix = []\n",
    "for _ in range(N):\n",
    "  input_list = input().split()\n",
    "  number_list = list(map(int, input_list))\n",
    "  matrix.append(number_list)\n",
    "\n",
    "print(matrix)"
   ]
  },
  {
   "cell_type": "code",
   "execution_count": null,
   "metadata": {},
   "outputs": [],
   "source": [
    "# 10 5\n",
    "# 2개의 정수를 입력\n",
    "N, X = list(map(int, input().split(\" \")))\n",
    "print(N, X)\n",
    "\n",
    "# 1 10 4 9 2 3 8 5 7 6\n",
    "# 정수로 이루어진 리스트\n",
    "number_list = list(map(int, input().split(\" \")))"
   ]
  },
  {
   "cell_type": "code",
   "execution_count": 18,
   "metadata": {},
   "outputs": [
    {
     "name": "stdout",
     "output_type": "stream",
     "text": [
      "[1, 0, 1]\n"
     ]
    }
   ],
   "source": [
    "# 공백없이 2개 이상의 숫자를 입력하는 경우\n",
    "# 101\n",
    "\n",
    "# 문자열 -> 리스트 형변환: 각 문자를 원소로 가진 리스트를 생성\n",
    "number_list = list(map(int, list(input())))\n",
    "print(number_list)\n",
    "\n"
   ]
  },
  {
   "cell_type": "code",
   "execution_count": null,
   "metadata": {},
   "outputs": [],
   "source": [
    "# str.find() / str.index()\n",
    "# find(문자): 문자를 못찾으면 -1을 반환\n",
    "# index(문자): 문자를 못찾으면 오류\n",
    "\n",
    "string = \"python\"\n",
    "word = \"p\"\n",
    "string.find(word)\n",
    "\n",
    "if string.find(word) != -1:\n",
    "  print(\"문자를 찾았습니다.\")\n",
    "elif string.find(word) == -1:\n",
    "  print(\"문자를 찾지 못했습니다.\")"
   ]
  },
  {
   "cell_type": "code",
   "execution_count": null,
   "metadata": {},
   "outputs": [],
   "source": [
    "# 리스트 정렬\n",
    "number_list = [3, 2, 6, 1, 8]\n",
    "\n",
    "# 컨테이너 자료형 정렬 함수 sorted(컨테이너), 권장\n",
    "sorted_list = sorted(number_list) # 정렬한 결과를 반환\n",
    "print(sorted_list)\n",
    "\n",
    "# 리스트 정렬 메소드 list.sort(), 추천x\n",
    "number_list.sort() # 원본 리스트를 정렬\n"
   ]
  }
 ],
 "metadata": {
  "kernelspec": {
   "display_name": "Python 3",
   "language": "python",
   "name": "python3"
  },
  "language_info": {
   "codemirror_mode": {
    "name": "ipython",
    "version": 3
   },
   "file_extension": ".py",
   "mimetype": "text/x-python",
   "name": "python",
   "nbconvert_exporter": "python",
   "pygments_lexer": "ipython3",
   "version": "3.12.6"
  }
 },
 "nbformat": 4,
 "nbformat_minor": 2
}
