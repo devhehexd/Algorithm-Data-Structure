{
 "cells": [
  {
   "cell_type": "code",
   "execution_count": 4,
   "metadata": {},
   "outputs": [
    {
     "name": "stdout",
     "output_type": "stream",
     "text": [
      "1\n",
      "10\n",
      "6080198843190384302\n",
      "-1584917624324624748\n",
      "-1079274433648634944\n",
      "-3550055125485641917\n"
     ]
    },
    {
     "ename": "TypeError",
     "evalue": "unhashable type: 'list'",
     "output_type": "error",
     "traceback": [
      "\u001b[1;31m---------------------------------------------------------------------------\u001b[0m",
      "\u001b[1;31mTypeError\u001b[0m                                 Traceback (most recent call last)",
      "Cell \u001b[1;32mIn[4], line 16\u001b[0m\n\u001b[0;32m     12\u001b[0m \u001b[38;5;28mprint\u001b[39m(\u001b[38;5;28mhash\u001b[39m((\u001b[38;5;241m1\u001b[39m, \u001b[38;5;241m2\u001b[39m)))\n\u001b[0;32m     14\u001b[0m \u001b[38;5;66;03m# 리스트: 변경이 가능한 자료형\u001b[39;00m\n\u001b[0;32m     15\u001b[0m \u001b[38;5;66;03m# 해시의 키가 될 수 없다\u001b[39;00m\n\u001b[1;32m---> 16\u001b[0m \u001b[38;5;28mprint\u001b[39m(\u001b[38;5;28;43mhash\u001b[39;49m\u001b[43m(\u001b[49m\u001b[43m[\u001b[49m\u001b[38;5;241;43m1\u001b[39;49m\u001b[43m,\u001b[49m\u001b[43m \u001b[49m\u001b[38;5;241;43m2\u001b[39;49m\u001b[43m]\u001b[49m\u001b[43m)\u001b[49m)\n\u001b[0;32m     17\u001b[0m {[\u001b[38;5;241m1\u001b[39m, \u001b[38;5;241m2\u001b[39m]: \u001b[38;5;124m\"\u001b[39m\u001b[38;5;124m리스트\u001b[39m\u001b[38;5;124m\"\u001b[39m}\n",
      "\u001b[1;31mTypeError\u001b[0m: unhashable type: 'list'"
     ]
    }
   ],
   "source": [
    "# 해시 함수 hash()\n",
    "# 특정 값에 대한 해시값을 계산\n",
    "print(hash(1))\n",
    "print(hash(10))\n",
    "\n",
    "# 일정한 길이의 숫자를 반환\n",
    "print(hash(\"1\"))\n",
    "print(hash(\"hello world\"))\n",
    "print(hash(\"hello\"))\n",
    "\n",
    "# 튜플\n",
    "print(hash((1, 2)))\n",
    "\n",
    "# 리스트: 변경이 가능한 자료형\n",
    "# 해시의 키가 될 수 없다\n",
    "print(hash([1, 2]))\n",
    "{[1, 2]: \"리스트\"}\n",
    "\n",
    "# 딕셔너리의 키는 변경이 불가능한 자료형\n",
    "# 문자열, 튜플, 숫자\n",
    "# 중복된 키를 사용할 수 없다\n",
    "\n",
    "# 셋(Set)은 원소 변경이 불가능한 자료형\n",
    "# 중복 원소를 저장할 수 없다\n",
    "\n",
    "# 셋 활용\n",
    "# 중복 탐색\n",
    "# 리스트의 멤버십(in) 연산자 시간 복잡도\n",
    "# O(n)\n",
    "\n",
    "# 셋의 멤버십 연산자 시간 복잡도\n",
    "# O(1)\n"
   ]
  },
  {
   "cell_type": "code",
   "execution_count": null,
   "metadata": {},
   "outputs": [],
   "source": []
  }
 ],
 "metadata": {
  "kernelspec": {
   "display_name": "Python 3",
   "language": "python",
   "name": "python3"
  },
  "language_info": {
   "codemirror_mode": {
    "name": "ipython",
    "version": 3
   },
   "file_extension": ".py",
   "mimetype": "text/x-python",
   "name": "python",
   "nbconvert_exporter": "python",
   "pygments_lexer": "ipython3",
   "version": "3.12.6"
  }
 },
 "nbformat": 4,
 "nbformat_minor": 2
}
