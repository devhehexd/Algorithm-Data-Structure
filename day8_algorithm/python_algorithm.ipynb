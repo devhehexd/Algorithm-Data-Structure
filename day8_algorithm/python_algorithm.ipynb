{
 "cells": [
  {
   "cell_type": "code",
   "execution_count": 2,
   "metadata": {},
   "outputs": [
    {
     "name": "stdout",
     "output_type": "stream",
     "text": [
      "['red', 'blue', 'apple', 'banana']\n",
      "[[1, 2], [1, 2, 3], [4, 5, 6, 7]]\n"
     ]
    }
   ],
   "source": [
    "# key 인자를 활용한 sorted() 정렬\n",
    "\n",
    "words = [\"apple\" , \"banana\", \"red\", \"blue\"]\n",
    "\n",
    "# 문자열 길이를 기준으로 정렬\n",
    "# 길이 len()\n",
    "\n",
    "sorted_words = sorted(words, key=len)\n",
    "print(sorted_words)\n",
    "\n",
    "matrix = [\n",
    "  [1, 2, 3],\n",
    "  [4, 5, 6, 7],\n",
    "  [1, 2]\n",
    "]\n",
    "sorted_matrix = sorted(matrix, key=len)\n",
    "print(sorted_matrix)"
   ]
  },
  {
   "cell_type": "code",
   "execution_count": 5,
   "metadata": {},
   "outputs": [
    {
     "name": "stdout",
     "output_type": "stream",
     "text": [
      "['Banana', 'Red', 'apple', 'blue']\n",
      "['apple', 'Banana', 'blue', 'Red']\n"
     ]
    },
    {
     "ename": "TypeError",
     "evalue": "list indices must be integers or slices, not tuple",
     "output_type": "error",
     "traceback": [
      "\u001b[1;31m---------------------------------------------------------------------------\u001b[0m",
      "\u001b[1;31mTypeError\u001b[0m                                 Traceback (most recent call last)",
      "Cell \u001b[1;32mIn[5], line 11\u001b[0m\n\u001b[0;32m      8\u001b[0m \u001b[38;5;28mprint\u001b[39m(sorted_words)\n\u001b[0;32m     10\u001b[0m \u001b[38;5;66;03m# 2개 이상의 데이터를 저장한 튜플을 저장한 리스트 정렬\u001b[39;00m\n\u001b[1;32m---> 11\u001b[0m \u001b[43mmatrix\u001b[49m\u001b[43m[\u001b[49m\n\u001b[0;32m     12\u001b[0m \u001b[43m  \u001b[49m\u001b[43m(\u001b[49m\u001b[38;5;241;43m2\u001b[39;49m\u001b[43m,\u001b[49m\u001b[43m \u001b[49m\u001b[38;5;241;43m5\u001b[39;49m\u001b[43m)\u001b[49m\u001b[43m,\u001b[49m\n\u001b[0;32m     13\u001b[0m \u001b[43m  \u001b[49m\u001b[43m(\u001b[49m\u001b[38;5;241;43m1\u001b[39;49m\u001b[43m,\u001b[49m\u001b[43m \u001b[49m\u001b[38;5;241;43m8\u001b[39;49m\u001b[43m)\u001b[49m\u001b[43m,\u001b[49m\n\u001b[0;32m     14\u001b[0m \u001b[43m  \u001b[49m\u001b[43m(\u001b[49m\u001b[38;5;241;43m4\u001b[39;49m\u001b[43m,\u001b[49m\u001b[43m \u001b[49m\u001b[38;5;241;43m3\u001b[39;49m\u001b[43m)\u001b[49m\u001b[43m,\u001b[49m\n\u001b[0;32m     15\u001b[0m \u001b[43m  \u001b[49m\u001b[43m(\u001b[49m\u001b[38;5;241;43m5\u001b[39;49m\u001b[43m,\u001b[49m\u001b[43m \u001b[49m\u001b[38;5;241;43m7\u001b[39;49m\u001b[43m)\u001b[49m\n\u001b[0;32m     16\u001b[0m \u001b[43m]\u001b[49m\n\u001b[0;32m     18\u001b[0m \u001b[38;5;66;03m# 기본 sorted() 함수 적용\u001b[39;00m\n\u001b[0;32m     19\u001b[0m sorted_matrix \u001b[38;5;241m=\u001b[39m \u001b[38;5;28msorted\u001b[39m(matrix)\n",
      "\u001b[1;31mTypeError\u001b[0m: list indices must be integers or slices, not tuple"
     ]
    }
   ],
   "source": [
    "words = [\"apple\" , \"Banana\", \"Red\", \"blue\"]\n",
    "sorted_words = sorted(words)\n",
    "print(sorted_words)\n",
    "\n",
    "# 대소문자 구분없이 정렬하는 법\n",
    "# 모두 대문자로 변환 후 정렬\n",
    "sorted_words = sorted(words, key=str.upper)\n",
    "print(sorted_words)"
   ]
  },
  {
   "cell_type": "code",
   "execution_count": 8,
   "metadata": {},
   "outputs": [
    {
     "name": "stdout",
     "output_type": "stream",
     "text": [
      "[(1, 8), (2, 5), (4, 3), (5, 7)]\n",
      "[(4, 3), (2, 5), (5, 7), (1, 8)]\n"
     ]
    }
   ],
   "source": [
    "# 2개 이상의 데이터를 저장한 튜플을 저장한 리스트 정렬\n",
    "matrix = [\n",
    "  (2, 5),\n",
    "  (1, 8),\n",
    "  (4, 3),\n",
    "  (5, 7)\n",
    "]\n",
    "\n",
    "# 기본 sorted() 함수 적용\n",
    "sorted_matrix = sorted(matrix)\n",
    "print(sorted_matrix)\n",
    "\n",
    "# 튜플의 두 번째 원소를 기준으로 정렬\n",
    "# 익명 함수 lambda 활용\n",
    "# x: 이차원 리스트 내부의 각 튜플\n",
    "sorted_matrix = sorted(matrix, key=lambda x:x[1])\n",
    "print(sorted_matrix)"
   ]
  },
  {
   "cell_type": "code",
   "execution_count": 13,
   "metadata": {},
   "outputs": [
    {
     "name": "stdout",
     "output_type": "stream",
     "text": [
      "[1, 2, 3]\n",
      "dict_items([(1, 'kiwi'), (3, 'apple'), (2, 'banana')])\n",
      "{1: 'kiwi', 2: 'banana', 3: 'apple'}\n",
      "{3: 'apple', 2: 'banana', 1: 'kiwi'}\n"
     ]
    }
   ],
   "source": [
    "dic = {\n",
    "  1: \"kiwi\",\n",
    "  3: \"apple\",\n",
    "  2: \"banana\" \n",
    "}\n",
    "\n",
    "# 기본 딕셔너리 정렬\n",
    "sorted_dic = sorted(dic)\n",
    "print(sorted_dic)\n",
    "\n",
    "# 딕셔너리.items(): key : value -> (key, value)\n",
    "dic_items = dic.items()\n",
    "print(dic_items)\n",
    "\n",
    "# 딕셔너리 key를 기준으로 정렬\n",
    "sorted_dic = dict(sorted(dic.items(), key=lambda x:x[0]))\n",
    "print(sorted_dic)\n",
    "\n",
    "# 딕셔너리 value를 기준으로 정렬\n",
    "sorted_dic2 = dict(sorted(dic.items(), key=lambda x:x[1]))\n",
    "print(sorted_dic2)"
   ]
  },
  {
   "cell_type": "code",
   "execution_count": 18,
   "metadata": {},
   "outputs": [
    {
     "name": "stdout",
     "output_type": "stream",
     "text": [
      "[(1, 0), (2, 0), (3, 0), (0, 1), (1, 1)]\n",
      "[(3, 0), (2, 0), (1, 0), (1, 1), (0, 1)]\n",
      "[(3, 0), (2, 0), (1, 0), (1, 1), (0, 1)]\n"
     ]
    }
   ],
   "source": [
    "# 여러 개의 기준 정렬\n",
    "matrix = [\n",
    "  (1, 0),\n",
    "  (3, 0),\n",
    "  (2, 0),\n",
    "  (0, 1),\n",
    "  (1, 1)\n",
    "]\n",
    "\n",
    "# 정렬 우선순위 두 번째 원소 -> 첫 번째 원소\n",
    "sorted_matrix = sorted(matrix, key=lambda x:(x[1], x[0]))\n",
    "print(sorted_matrix)\n",
    "\n",
    "# 정렬 우선순위 두 번째 원소 -> 첫 번째 원소(역순)\n",
    "sorted_matrix = sorted(matrix, key=lambda x:(x[1], -x[0]))\n",
    "print(sorted_matrix)\n",
    "\n",
    "# 합 또는 차를 기준으로 정렬\n",
    "sorted_matrix = sorted(matrix, key=lambda x:(x[1] - x[0]))\n",
    "print(sorted_matrix)"
   ]
  },
  {
   "cell_type": "code",
   "execution_count": 25,
   "metadata": {},
   "outputs": [
    {
     "name": "stdout",
     "output_type": "stream",
     "text": [
      "3\n",
      "4\n",
      "7\n",
      "값을 찾지 못했다.\n"
     ]
    }
   ],
   "source": [
    "import bisect\n",
    "\n",
    "list_ = [1, 4, 6, 8, 9, 12, 13]\n",
    "\n",
    "left_index = bisect.bisect_left(list_, 8)\n",
    "print(left_index)\n",
    "\n",
    "right_index = bisect.bisect_right(list_, 8)\n",
    "print(right_index)\n",
    "\n",
    "# bisect를 활용한 탐색(in)\n",
    "# target = 4\n",
    "# target = 2\n",
    "target = 14 # 리스트의 최대 값을 벗어나는 값\n",
    "left_index = bisect.bisect_left(list_, target)\n",
    "print(left_index)\n",
    "\n",
    "# 만약에\n",
    "# 삽입 인덱스가 리스트 길이와 다르고\n",
    "# 삽입 인덱스의 원소의 값고 타겟 값이 같으면\n",
    "if left_index != len(list_) and target == list_[left_index]:\n",
    "  print(left_index, list_[left_index])\n",
    "  print(\"값을 찾았다.\")\n",
    "else:\n",
    "  print(\"값을 찾지 못했다.\") \n",
    "\n",
    "# 비 정렬된 리스트를 정렬해서 이진탐색을 하는 것이 유리한가?\n",
    "# nlogn / logn -> nlogn\n",
    "# 탐색을 n번 한다고 가정했을 때, 정렬(nlogn) 1번, n번의 logn -> (nlogn)\n",
    "\n",
    "# 비 정렬된 리스트를 일반 탐색을 하는게 유리한가\n",
    "# O(n), 탐색을 n번하면 O(n^2)\n"
   ]
  }
 ],
 "metadata": {
  "kernelspec": {
   "display_name": "Python 3",
   "language": "python",
   "name": "python3"
  },
  "language_info": {
   "codemirror_mode": {
    "name": "ipython",
    "version": 3
   },
   "file_extension": ".py",
   "mimetype": "text/x-python",
   "name": "python",
   "nbconvert_exporter": "python",
   "pygments_lexer": "ipython3",
   "version": "3.12.6"
  }
 },
 "nbformat": 4,
 "nbformat_minor": 2
}
