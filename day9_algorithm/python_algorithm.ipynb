{
 "cells": [
  {
   "cell_type": "code",
   "execution_count": 3,
   "metadata": {},
   "outputs": [
    {
     "name": "stdout",
     "output_type": "stream",
     "text": [
      "1 4\n",
      "2 3\n"
     ]
    }
   ],
   "source": [
    "numbers = [1, 2, 3, 4, 5]\n",
    "\n",
    "# 단순 이중 반복문을 통한 타겟(두 수의 합) 탐색\n",
    "\n",
    "target = 7\n",
    "\n",
    "for i in range(len(numbers)):\n",
    "  for j in range(i + 1, len(numbers)):\n",
    "    total = numbers[i] + numbers[j]\n",
    "    if total == target:\n",
    "      print(i, j)\n",
    "      \n",
    "      \n",
    "# 투 포인터를 활용한 타겟 탐색\n",
    "\n",
    "left = 0\n",
    "right = len(numbers) - 1\n",
    "\n",
    "# left는 right보다 커지면 안된다\n",
    "while left < right:\n",
    "  total = numbers[left] + numbers[right]\n",
    "  \n",
    "  if total == target:\n",
    "    print(left, right)\n",
    "  elif total < target:\n",
    "    left += 1\n",
    "  elif total > target:\n",
    "    right -= 1\n",
    "  \n"
   ]
  },
  {
   "cell_type": "code",
   "execution_count": 20,
   "metadata": {},
   "outputs": [
    {
     "name": "stdout",
     "output_type": "stream",
     "text": [
      "[0, 1, 0, 0, 1, 0, 0]\n",
      "[0, 0, 1, 0, 0, 0, 0]\n",
      "[0, 0, 0, 0, 0, 0, 0]\n",
      "[0, 0, 0, 0, 0, 0, 1]\n",
      "[0, 1, 0, 0, 0, 1, 0]\n",
      "[0, 0, 0, 0, 0, 0, 0]\n",
      "[0, 0, 0, 0, 0, 1, 0]\n"
     ]
    },
    {
     "name": "stderr",
     "output_type": "stream",
     "text": [
      "<>:2: SyntaxWarning: invalid escape sequence '\\A'\n",
      "<>:2: SyntaxWarning: invalid escape sequence '\\A'\n",
      "C:\\Users\\MZC-USER\\AppData\\Local\\Temp\\ipykernel_992\\3709230122.py:2: SyntaxWarning: invalid escape sequence '\\A'\n",
      "  sys.stdin = open(\"D:\\Algorithm_Data_Structure\\day9_algorithm\\input.txt\")\n"
     ]
    }
   ],
   "source": [
    "import sys\n",
    "sys.stdin = open(\"D:\\Algorithm_Data_Structure\\day9_algorithm\\input.txt\")\n",
    "\n",
    "import sys\n",
    "input = sys.stdin.readline\n",
    "\n",
    "# 정점과 간선의 수\n",
    "V = int(input().strip())\n",
    "E = int(input().strip())\n",
    "\n",
    "# 인접 행렬을 표현하기 위한 리스트\n",
    "graph = []\n",
    "\n",
    "for _ in range(V):\n",
    "    # V개의 정점 정보를 저장할 일차원 리스트\n",
    "    temp = [0] * (V)\n",
    "    \n",
    "    graph.append(temp)\n",
    "\n",
    "# 간선의 수 만큼 반복문\n",
    "for _ in range(E):\n",
    "  # 두개의 정수를 입력 받는 코드\n",
    "  u, v = list(map(int, input().split()))\n",
    "  \n",
    "  # 행렬의 값을 1로 수정\n",
    "  graph [u][v] = 1\n",
    "  \n",
    "for row in graph:\n",
    "    print(row)"
   ]
  },
  {
   "cell_type": "code",
   "execution_count": 18,
   "metadata": {},
   "outputs": [
    {
     "name": "stdout",
     "output_type": "stream",
     "text": [
      "[1, 4]\n",
      "[0, 2, 4]\n",
      "[1]\n",
      "[6]\n",
      "[0, 1, 5]\n",
      "[4, 6]\n",
      "[3, 5]\n"
     ]
    },
    {
     "name": "stderr",
     "output_type": "stream",
     "text": [
      "<>:4: SyntaxWarning: invalid escape sequence '\\A'\n",
      "<>:4: SyntaxWarning: invalid escape sequence '\\A'\n",
      "C:\\Users\\MZC-USER\\AppData\\Local\\Temp\\ipykernel_992\\2651353397.py:4: SyntaxWarning: invalid escape sequence '\\A'\n",
      "  sys.stdin = open(\"D:\\Algorithm_Data_Structure\\day9_algorithm\\input.txt\")\n"
     ]
    }
   ],
   "source": [
    "# 인접 리스트로 표현\n",
    "\n",
    "import sys\n",
    "sys.stdin = open(\"D:\\Algorithm_Data_Structure\\day9_algorithm\\input.txt\")\n",
    "\n",
    "import sys\n",
    "input = sys.stdin.readline\n",
    "\n",
    "# 정점과 간선의 수\n",
    "V = int(input().strip())\n",
    "E = int(input().strip())\n",
    "\n",
    "# 인접 리스트를 표현할 리스트\n",
    "graph = []\n",
    "\n",
    "for _ in range(V):\n",
    "    graph.append([])\n",
    "\n",
    "for _ in range(E):\n",
    "  u,v = list(map(int, input().split()))\n",
    "  \n",
    "  # u번 정점에서 도착할 수 있는 v번 정점 저장\n",
    "  graph[u].append(v)\n",
    "  \n",
    "  # 양방향 표현\n",
    "  # v번 -> u번 저장\n",
    "  graph[v].append(u)\n",
    "\n",
    "for row in graph:\n",
    "  print(row)\n",
    "  \n"
   ]
  },
  {
   "cell_type": "code",
   "execution_count": 23,
   "metadata": {},
   "outputs": [
    {
     "name": "stdout",
     "output_type": "stream",
     "text": [
      "0\n",
      "1\n",
      "4\n",
      "2\n",
      "5\n",
      "6\n",
      "3\n"
     ]
    },
    {
     "name": "stderr",
     "output_type": "stream",
     "text": [
      "<>:2: SyntaxWarning: invalid escape sequence '\\A'\n",
      "<>:2: SyntaxWarning: invalid escape sequence '\\A'\n",
      "C:\\Users\\MZC-USER\\AppData\\Local\\Temp\\ipykernel_992\\1341424248.py:2: SyntaxWarning: invalid escape sequence '\\A'\n",
      "  sys.stdin = open(\"D:\\Algorithm_Data_Structure\\day9_algorithm\\input.txt\")\n"
     ]
    }
   ],
   "source": [
    "import sys\n",
    "sys.stdin = open(\"D:\\Algorithm_Data_Structure\\day9_algorithm\\input.txt\")\n",
    "\n",
    "import sys\n",
    "input = sys.stdin.readline\n",
    "\n",
    "# 정점의 수, 간선의 수\n",
    "V = int(input().strip())\n",
    "E = int(input().strip())\n",
    "\n",
    "# 인접 리스트로 표현\n",
    "graph = []\n",
    "\n",
    "for _ in range(V):\n",
    "  graph.append([])\n",
    "  \n",
    "\n",
    "for _ in range(E):\n",
    "  s, e = list(map(int, input().split()))\n",
    "  # s 정점은 e 정점으로 이동할 수 있다(간선이 존재한다)\n",
    "  graph[s].append(e)\n",
    "  graph[e].append(s)\n",
    "\n",
    "from collections import deque\n",
    "\n",
    "queue = deque()\n",
    "\n",
    "# 방문 확인 변수\n",
    "visited = set() # 리스트는 O(n)이지만 set은 상수 시간복잡도를 보장하기 때문에 사용\n",
    "\n",
    "# 시작 노드\n",
    "start = 0\n",
    "queue.append(start)\n",
    "# 시작 노드를 방문 처리\n",
    "visited.add(start)\n",
    "\n",
    "# queue = [](빈 queue) -> boolean 평가하면 False(거짓)\n",
    "while queue:\n",
    "  node = queue.popleft()\n",
    "  print(node)\n",
    "\n",
    "  for adj_node in graph[node]:\n",
    "    # adj_node를 방문했는지?\n",
    "    if adj_node not in visited:\n",
    "      # adj_node는 방문한 적이 없다\n",
    "    \n",
    "      # adj_node를 방문한 것을 표시\n",
    "      visited.add(adj_node)\n",
    "\n",
    "      # 탐색 기준이 되는 인접 노드를 저장\n",
    "      queue.append(adj_node)\n",
    "\n",
    "\n"
   ]
  }
 ],
 "metadata": {
  "kernelspec": {
   "display_name": "Python 3",
   "language": "python",
   "name": "python3"
  },
  "language_info": {
   "codemirror_mode": {
    "name": "ipython",
    "version": 3
   },
   "file_extension": ".py",
   "mimetype": "text/x-python",
   "name": "python",
   "nbconvert_exporter": "python",
   "pygments_lexer": "ipython3",
   "version": "3.12.6"
  }
 },
 "nbformat": 4,
 "nbformat_minor": 2
}
