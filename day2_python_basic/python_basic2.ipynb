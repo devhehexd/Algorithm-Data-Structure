{
 "cells": [
  {
   "cell_type": "code",
   "execution_count": 3,
   "metadata": {},
   "outputs": [
    {
     "name": "stdout",
     "output_type": "stream",
     "text": [
      "(1, 2, 3, 4)\n",
      "(1, 2, 3, 4, 5, 6, 7)\n"
     ]
    }
   ],
   "source": [
    "# 튜플 자료형\n",
    "# 수정(원소의 추가, 원소의 삭제, 원소의 수정)이 불가능한 리스트\n",
    "# 소괄호() 생성\n",
    "\n",
    "tuple1 = (1, 2, 3, 4)\n",
    "print(tuple1)\n",
    "\n",
    "# tuple1[0] = 0 -> 원소의 수정이 불가능하다\n",
    "# 리스트의 더하기, 곱하기와 동일하게 작용한다\n",
    "\n",
    "tuple2 = (5, 6, 7)\n",
    "# tuple1과 tuple2를 합친 새로운 튜플을 생성\n",
    "tuple1 = tuple1 + tuple2\n",
    "print(tuple1)"
   ]
  },
  {
   "cell_type": "code",
   "execution_count": 7,
   "metadata": {},
   "outputs": [
    {
     "name": "stdout",
     "output_type": "stream",
     "text": [
      "8448728\n",
      "8000040\n"
     ]
    },
    {
     "ename": "TypeError",
     "evalue": "list.append() takes exactly one argument (0 given)",
     "output_type": "error",
     "traceback": [
      "\u001b[1;31m---------------------------------------------------------------------------\u001b[0m",
      "\u001b[1;31mTypeError\u001b[0m                                 Traceback (most recent call last)",
      "Cell \u001b[1;32mIn[7], line 10\u001b[0m\n\u001b[0;32m      7\u001b[0m \u001b[38;5;28mprint\u001b[39m(sys\u001b[38;5;241m.\u001b[39mgetsizeof(list_))\n\u001b[0;32m      8\u001b[0m \u001b[38;5;28mprint\u001b[39m(sys\u001b[38;5;241m.\u001b[39mgetsizeof(tuple_))\n\u001b[1;32m---> 10\u001b[0m \u001b[43mlist_\u001b[49m\u001b[38;5;241;43m.\u001b[39;49m\u001b[43mappend\u001b[49m\u001b[43m(\u001b[49m\u001b[43m)\u001b[49m\n\u001b[0;32m     11\u001b[0m \u001b[38;5;66;03m# 10개만 들어갈 수 있는 공간\u001b[39;00m\n\u001b[0;32m     12\u001b[0m \u001b[38;5;66;03m# 10개가 들어가면 공간을 더 만든다\u001b[39;00m\n",
      "\u001b[1;31mTypeError\u001b[0m: list.append() takes exactly one argument (0 given)"
     ]
    }
   ],
   "source": [
    "# 리스트, 튜플의 메모리 사용량 비교\n",
    "\n",
    "list_ = [i for i in range(10 **6)]\n",
    "tuple_ = tuple(list_)\n",
    "\n",
    "import sys\n",
    "print(sys.getsizeof(list_))\n",
    "print(sys.getsizeof(tuple_))\n",
    "\n",
    "list_.append()\n",
    "# 10개만 들어갈 수 있는 공간\n",
    "# 10개가 들어가면 공간을 더 만든다"
   ]
  },
  {
   "cell_type": "code",
   "execution_count": 9,
   "metadata": {},
   "outputs": [
    {
     "name": "stdout",
     "output_type": "stream",
     "text": [
      "range(0, 10)\n",
      "[0, 1, 2, 3, 4, 5, 6, 7, 8, 9]\n"
     ]
    }
   ],
   "source": [
    "# range(): 연속된 정수 목록을 생성하는 함수(자료형)\n",
    "# range(시작, 끝, 간격)\n",
    "# 끝 값에 대한 생략이 불가능하다\n",
    "# 시작을 생략하는 0부터 범위가 시작\n",
    "# 간격을 생략하면 1이 들어간다\n",
    "\n",
    "# 0~10의 범위를 가진 정수 목록\n",
    "# 끝 숫자는 포함되지 않는다\n",
    "print(range(0, 10, 1))\n",
    "print(list(range(0, 10, 1)))\n",
    "\n",
    "# 끝 값을 포함: 0, 10 -> 0 <= x <= 10\n",
    "# 끝 값을 포함 : 10, 20 -> 10 <= x <= 20\n",
    "# 끝 값을 포함x : 0, 10 -> 0 <= x < 10\n"
   ]
  },
  {
   "cell_type": "code",
   "execution_count": 11,
   "metadata": {},
   "outputs": [
    {
     "name": "stdout",
     "output_type": "stream",
     "text": [
      "['s', 't', 'r', 'i', 'n', 'g']\n",
      "['l', 'i', 's', 't']\n"
     ]
    }
   ],
   "source": [
    "# 문자열 -> 리스트 형변환\n",
    "string = \"string\"\n",
    "\n",
    "# 각 문자를 원소로 가진 리스트를 생성\n",
    "print(list(string))\n",
    "\n",
    "list_ = [\"l\", \"i\", \"s\", \"t\"]\n",
    "\n",
    "# 우리가 원한 문자열은 \"list\"\n",
    "# 실제 생성된 문자열은 ['l', 'i', 's', 't']\n",
    "print(str(list_))\n",
    "\n",
    "# \"\".join 메서드를 사용해서 리스트를 문자열로 변환해야하는 이유"
   ]
  },
  {
   "cell_type": "code",
   "execution_count": 15,
   "metadata": {},
   "outputs": [
    {
     "name": "stdout",
     "output_type": "stream",
     "text": [
      "cruz\n",
      "기범\n",
      "{'name': '기범', '사는 곳': '서울', '출생지': '부산'}\n",
      "{'사는 곳': '서울', '출생지': '부산'} 기범\n",
      "{'사는 곳': '서울'} ('출생지', '부산')\n"
     ]
    }
   ],
   "source": [
    "# 시퀀스 자료형 = 순서가 있는 자료형\n",
    "\n",
    "# Non-시퀀스 자료형 = 순서가 없는 자료형\n",
    "# 딕셔너리(Dictionary), dict()\n",
    "# 자바 - HashMap, 자바스크립트 -Object\n",
    "# 원소(key-value)를 가진 자료형\n",
    "# 딕셔너리 생성: 중괄호 {}\n",
    "# 각 원소는 쉼표 ',' 구분\n",
    "# key와 value는 콜론 ':' 구분\n",
    "my_dict = {\n",
    "  \"name\" : \"cruz\",\n",
    "  \"사는 곳\" : \"서울\"\n",
    "}\n",
    "# key에 들어갈 수 있는 자료형은 수정이 불가능한 자료형이다\n",
    "# value에 들어갈 수 있는 자료형은 구분이 없다\n",
    "\n",
    "# 딕셔너리의 키 인덱싱\n",
    "# dict[key]\n",
    "print(my_dict[\"name\"])\n",
    "\n",
    "# 딕셔너리의 value 수정\n",
    "my_dict[\"name\"] = \"기범\"\n",
    "print(my_dict[\"name\"])\n",
    "\n",
    "# 딕셔너리 key-value 추가\n",
    "# 수정과 동일한 문법\n",
    "my_dict[\"출생지\"] = \"부산\"\n",
    "print(my_dict)\n",
    "\n",
    "# 딕셔너리 key-value 삭제\n",
    "# key를 활용한 삭제 -> dict.pop(key)\n",
    "# value를 반환한다\n",
    "name = my_dict.pop(\"name\")\n",
    "print(my_dict, name)\n",
    "\n",
    "# 마지막 key-value를 삭제하고 반환 -> dict.popitem()\n",
    "item = my_dict.popitem()\n",
    "print(my_dict, item)\n",
    "\n",
    "# 메모리 주소\n",
    "# 순서가 있는: 1 2 3 4 5 6 7...\n",
    "# 순서가 없는: 1 7 9 2 5...\n"
   ]
  },
  {
   "cell_type": "code",
   "execution_count": 17,
   "metadata": {},
   "outputs": [
    {
     "name": "stdout",
     "output_type": "stream",
     "text": [
      "dict_keys(['빨강', '파랑'])\n",
      "dict_values(['red', 'blue'])\n",
      "dict_items([('빨강', 'red'), ('파랑', 'blue')])\n"
     ]
    }
   ],
   "source": [
    "# 딕셔너리 메서드\n",
    "my_dict = {\n",
    "  \"빨강\" : \"red\",\n",
    "  \"파랑\" :  \"blue\"\n",
    "}\n",
    "# dict.keys(): key 모음을 반환\n",
    "print(my_dict.keys())\n",
    "\n",
    "# dict.values(): value 모음을 반환\n",
    "print(my_dict.values())\n",
    "\n",
    "# dict.items(): items(key-value) 모음을 튜플로 반환\n",
    "print(my_dict.items())"
   ]
  },
  {
   "cell_type": "code",
   "execution_count": null,
   "metadata": {},
   "outputs": [],
   "source": [
    "# 집합(Set) 자료형\n",
    "# 순서가 없는 자료형\n",
    "# 중복된 원소를 저장할 수 없다\n",
    "# 빈 Set 자료형 생성: set()\n",
    "# 원소가 있는 set 자료형은 중괄호 {}\n",
    "\n",
    "# 빈 Dictionary를 의미\n",
    "set_ = {}\n",
    "print(type(set_))\n",
    "\n",
    "# 빈 Set 자료형\n",
    "set_ = {1, 2, 3, 4, 5}\n",
    "\n",
    "# 원소의 수정이 불가능하다\n",
    "# 원소에 접근할 수단이 없다\n",
    "\n",
    "# 원소의 추가\n",
    "set_.add(6)\n",
    "set_.add(1)\n",
    "print(set_)\n",
    "\n",
    "# 원소의 삭제\n",
    "\n",
    "set_.remove(2)\n",
    "#지울 원소가 없어도 오류가 발생하지 않는다\n",
    "set_.discard(2)\n",
    "\n",
    "set_.discard(3)\n",
    "#지울 원소가 없으면 오류가 발생한다\n",
    "set_.remove(3)"
   ]
  },
  {
   "cell_type": "code",
   "execution_count": 20,
   "metadata": {},
   "outputs": [
    {
     "name": "stdout",
     "output_type": "stream",
     "text": [
      "True\n",
      "False\n",
      "True\n",
      "True\n",
      "False\n",
      "False\n",
      "True\n"
     ]
    }
   ],
   "source": [
    "# 컨테이너 자료형의 멤버십 연산자\n",
    "# 값 in 컨테이너: 컨테이너 안에 값이 존재하면 참(True)을 반환\n",
    "# 값 not in 컨테이너: 컨테이너 안에 값이 없으면 거짓(False)을 반환\n",
    "# 중복된 문자, 값을 찾는다.\n",
    "\n",
    "string = \"python\"\n",
    "list_ = [\"p\", \"y\", \"t\"]\n",
    "set_ = {\"p\", \"y\"}\n",
    "\n",
    "print('p' in string)\n",
    "print('p' not in list_)\n",
    "print('p' in set_)\n",
    "\n",
    "my_dict = {\n",
    "  \"빨강\":\"red\",\n",
    "  \"파랑\":\"blue\"\n",
    "}\n",
    "\n",
    "# 딕셔너리는 key 모음에서 값을 찾는다.\n",
    "print(\"빨강\" in my_dict) # True\n",
    "print(\"blue\" in my_dict) # False\n",
    "\n",
    "# 딕셔너리.values()는 value 모음에서 값을 찾는다\n",
    "print(\"빨강\" in my_dict.values()) # False\n",
    "print(\"blue\" in my_dict.values()) # True\n"
   ]
  },
  {
   "cell_type": "code",
   "execution_count": 22,
   "metadata": {},
   "outputs": [
    {
     "name": "stdout",
     "output_type": "stream",
     "text": [
      "x는 5보다 크다.\n",
      "조건식의 결과와 상관없이 코드가 실행된다.\n"
     ]
    }
   ],
   "source": [
    "# 조건문\n",
    "  \n",
    "# if 조건식:\n",
    "#      들여쓰기(indent)로 코드 블럭을 구분한다.\n",
    "#     1 tab 또는 4 space를 통해 들여쓰기를 한다.\n",
    "x = 10\n",
    "if x > 5:\n",
    "  print(\"x는 5보다 크다.\")\n",
    "  \n",
    "print(\"조건식의 결과와 상관없이 코드가 실행된다.\")"
   ]
  },
  {
   "cell_type": "code",
   "execution_count": 24,
   "metadata": {},
   "outputs": [
    {
     "name": "stdout",
     "output_type": "stream",
     "text": [
      "x가 5보다 크다\n"
     ]
    }
   ],
   "source": [
    "# elif\n",
    "# 자바 else if\n",
    "# 자바스크립트 else if\n",
    "x = 10\n",
    "if x > 10:\n",
    "  print(\"x가 10보다 크다\")\n",
    "elif x > 5:\n",
    "  print(\"x가 5보다 크다\")\n",
    "elif x > 3:\n",
    "  print(\"x가 3보다 크다\")\n",
    "else:\n",
    "  print(\"x는 10보다도 5보다도 3보다도 크지 않다\")"
   ]
  },
  {
   "cell_type": "code",
   "execution_count": 27,
   "metadata": {},
   "outputs": [
    {
     "name": "stdout",
     "output_type": "stream",
     "text": [
      "1\n",
      "2\n",
      "3\n",
      "4\n",
      "red 빨강\n",
      "blue 파랑\n"
     ]
    }
   ],
   "source": [
    "# for 반복문\n",
    "# for 내부변수 in 컨테이너:\n",
    "#      반복 실행할 코드블럭\n",
    "\n",
    "# 범위가 정해진 반복문\n",
    "\n",
    "# 컨테이너 자료형 리스트\n",
    "list_= [1, 2, 3, 4]\n",
    "\n",
    "for number in list_:\n",
    "  # for 반복문을 사용할 때 컨테이너에 조작을 가하면 안된다\n",
    "  # list_.pop()\n",
    "  print(number)\n",
    "\n",
    "# 딕셔너리 반복문\n",
    "dic = {\n",
    "  \"red\":\"빨강\",\n",
    "  \"blue\":\"파랑\"\n",
    "}\n",
    "\n",
    "for key in dic:\n",
    "  value = dic[key]\n",
    "  print(key, value)"
   ]
  },
  {
   "cell_type": "code",
   "execution_count": 31,
   "metadata": {},
   "outputs": [
    {
     "name": "stdout",
     "output_type": "stream",
     "text": [
      "5\n",
      "0 1\n",
      "1 2\n",
      "2 3\n",
      "3 4\n",
      "4 5\n",
      "0\n",
      "1\n",
      "2\n",
      "3\n",
      "4\n",
      "5\n",
      "6\n",
      "7\n",
      "8\n",
      "9\n"
     ]
    }
   ],
   "source": [
    "# 리스트 인덱스를 통한 순회(반복)\n",
    "\n",
    "# 리스트 인덱스 목록(리스트)\n",
    "list_ = [1, 2, 3, 4, 5]\n",
    "# len() 함수: 컨테이너 자료형의 길이(원소의 개수)를 반환\n",
    "length = len(list_)\n",
    "print(length)\n",
    "\n",
    "# rang(시작, 끝, 간격)\n",
    "# 인덱스 범위\n",
    "for index in range(0, length):\n",
    "  print(index, list_[index])\n",
    "  \n",
    "# 특정 횟수를 위한 반복문\n",
    "N = 10\n",
    "\n",
    "for n in range(0, N):\n",
    "  print(n)"
   ]
  },
  {
   "cell_type": "code",
   "execution_count": 32,
   "metadata": {},
   "outputs": [
    {
     "name": "stdout",
     "output_type": "stream",
     "text": [
      "0\n",
      "1\n",
      "2\n",
      "3\n",
      "4\n",
      "5\n",
      "6\n",
      "7\n",
      "8\n",
      "9\n"
     ]
    }
   ],
   "source": [
    "# while 반복문\n",
    "\n",
    "# while 조건식:\n",
    "#   반복할 코드 블럭\n",
    "\n",
    "# 인덱스를 활용한 while 반복문\n",
    "list_ = [1, 2, 3, 4, 5]\n",
    "length = len(list_)\n",
    "i = 0\n",
    "\n",
    "while i < length:\n",
    "  print(i)\n",
    "  # 조건에 따라 인덱스 값의 변화를 다르게 하는 경우\n",
    "  if list_[i] == 2:\n",
    "    i = i + 2\n",
    "  else: \n",
    "    i = i + 1\n",
    "\n",
    "# for / while\n",
    "# for: 범위가 정해진 경우\n",
    "# while: 조건에 따라 반복을 해야하는 경우\n",
    "\n",
    "# 무한 반복: while 조건식이 항상 참(true)인 경우 혹은 조건식 대신 참(true)\n",
    "# while true:\n",
    "#   pass"
   ]
  },
  {
   "cell_type": "code",
   "execution_count": 34,
   "metadata": {},
   "outputs": [
    {
     "name": "stdout",
     "output_type": "stream",
     "text": [
      "0\n",
      "1\n",
      "2\n",
      "3\n",
      "4\n",
      "1\n",
      "0\n",
      "1\n",
      "3\n",
      "4\n",
      "5\n",
      "6\n",
      "7\n",
      "8\n",
      "9\n"
     ]
    }
   ],
   "source": [
    "# 반복문을 제어하는 키워드\n",
    "# break, continue, pass\n",
    "\n",
    "# pass: 비어있는 코드 블럭의 오류를 방지\n",
    "x = 10\n",
    "if x > 5:\n",
    "  pass\n",
    "\n",
    "for i in range(0, 10):\n",
    "  pass\n",
    "\n",
    "# break\n",
    "for i in range(0, 10):\n",
    "  if i == 5:\n",
    "    break\n",
    "  print(i)\n",
    "  \n",
    "# 무한 반복고 break\n",
    "i = 0\n",
    "while True:\n",
    "  if i == 5:\n",
    "    break\n",
    "  if i % 2 == 1:\n",
    "    break\n",
    "  \n",
    "  i += 1\n",
    "  print(i)\n",
    "  \n",
    "\n",
    "# continue: 현재 반복을 종료하고, 다음 반복으로 넘어간다\n",
    "# 조건에 대한 필터링을 할 때 활용한다\n",
    "for i in range(0, 10):\n",
    "  if i == 2:\n",
    "    continue\n",
    "  print(i)"
   ]
  },
  {
   "cell_type": "code",
   "execution_count": 38,
   "metadata": {},
   "outputs": [
    {
     "name": "stdout",
     "output_type": "stream",
     "text": [
      "0\n",
      "1\n",
      "2\n",
      "3\n",
      "4\n",
      "5\n",
      "6\n",
      "7\n",
      "8\n",
      "9\n",
      "10이 범위에 없습니다.\n",
      "0\n",
      "1\n",
      "2\n",
      "3\n",
      "4\n",
      "5\n",
      "6\n",
      "7\n",
      "8\n",
      "9\n",
      "10이 범위에 없습니다.\n"
     ]
    }
   ],
   "source": [
    "# for ~ else\n",
    "# while ~ else\n",
    "\n",
    "for i in range(10):\n",
    "  if i == 10:\n",
    "    break\n",
    "  print(i)\n",
    "else:\n",
    "  # break에 의해 반복문이 종료되지 않으면 실행된다\n",
    "  print(\"10이 범위에 없습니다.\")\n",
    "\n",
    "i = 0\n",
    "while i < 10:\n",
    "  if i == 10:\n",
    "    break\n",
    "  print(i)\n",
    "  i += 1\n",
    "else:\n",
    "  print(\"10이 범위에 없습니다.\")"
   ]
  }
 ],
 "metadata": {
  "kernelspec": {
   "display_name": "Python 3",
   "language": "python",
   "name": "python3"
  },
  "language_info": {
   "codemirror_mode": {
    "name": "ipython",
    "version": 3
   },
   "file_extension": ".py",
   "mimetype": "text/x-python",
   "name": "python",
   "nbconvert_exporter": "python",
   "pygments_lexer": "ipython3",
   "version": "3.12.6"
  }
 },
 "nbformat": 4,
 "nbformat_minor": 2
}
