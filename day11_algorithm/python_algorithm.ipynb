{
 "cells": [
  {
   "cell_type": "code",
   "execution_count": 9,
   "metadata": {},
   "outputs": [
    {
     "name": "stdout",
     "output_type": "stream",
     "text": [
      "[0, 1, 2]\n",
      "[0, 1, 3]\n",
      "[0, 2, 1]\n",
      "[0, 2, 3]\n",
      "[0, 3, 1]\n",
      "[0, 3, 2]\n",
      "[1, 0, 2]\n",
      "[1, 0, 3]\n",
      "[1, 2, 0]\n",
      "[1, 2, 3]\n",
      "[1, 3, 0]\n",
      "[1, 3, 2]\n",
      "[2, 0, 1]\n",
      "[2, 0, 3]\n",
      "[2, 1, 0]\n",
      "[2, 1, 3]\n",
      "[2, 3, 0]\n",
      "[2, 3, 1]\n",
      "[3, 0, 1]\n",
      "[3, 0, 2]\n",
      "[3, 1, 0]\n",
      "[3, 1, 2]\n",
      "[3, 2, 0]\n",
      "[3, 2, 1]\n"
     ]
    }
   ],
   "source": [
    "# 백트래킹은 재귀함수를 활용한 DFS 기반\n",
    "\n",
    "graph = [\n",
    "  [1, 2, 3],\n",
    "  [0, 2, 3],\n",
    "  [0, 1, 3],\n",
    "  [0, 1, 2]\n",
    "]\n",
    "\n",
    "# 정점의 수\n",
    "V = len(graph)\n",
    "\n",
    "# 조합의 길이\n",
    "length = 3\n",
    "\n",
    "# 방문 변수\n",
    "visited = [False] * V\n",
    "\n",
    "# 조합 함수\n",
    "def dfs(node, combi):\n",
    "  if length == len(combi):\n",
    "    print(combi)\n",
    "    return\n",
    "  \n",
    "  # 인접 노드를 확인\n",
    "  for adj_node in graph[node]:\n",
    "    # 인접 노드의 방문 확인\n",
    "    if visited[adj_node] != True:\n",
    "        visited[adj_node] = True\n",
    "\n",
    "        # combi.append(adj.node)\n",
    "        new_combi = combi + [adj_node]\n",
    "        dfs(adj_node, new_combi)\n",
    "        \n",
    "        # 방문했던 노드의 방문 처리를 풀어준다\n",
    "        # 여러번 방문할 수 있게 한다\n",
    "        visited[adj_node] = False\n",
    "\n",
    "# 시작 번호\n",
    "for start in range(0, V):\n",
    "  visited[start] = True\n",
    "  dfs(start, [start])\n",
    "  visited[start] = False"
   ]
  }
 ],
 "metadata": {
  "kernelspec": {
   "display_name": "Python 3",
   "language": "python",
   "name": "python3"
  },
  "language_info": {
   "codemirror_mode": {
    "name": "ipython",
    "version": 3
   },
   "file_extension": ".py",
   "mimetype": "text/x-python",
   "name": "python",
   "nbconvert_exporter": "python",
   "pygments_lexer": "ipython3",
   "version": "3.12.6"
  }
 },
 "nbformat": 4,
 "nbformat_minor": 2
}
