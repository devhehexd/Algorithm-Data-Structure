{
 "cells": [
  {
   "cell_type": "code",
   "execution_count": 4,
   "metadata": {},
   "outputs": [
    {
     "name": "stdout",
     "output_type": "stream",
     "text": [
      "target을 찾았습니다.\n"
     ]
    }
   ],
   "source": [
    "list = [1, 2, 3, 4, 5, 6, 7, 8, 9, 10]\n",
    "target = 1\n",
    "\n",
    "# 최선의 경우: 1번만에 찾는다\n",
    "# 최악의 경우: 원소를 모두 탐색한다\n",
    "\n",
    "for element in list:\n",
    "  if target == element:\n",
    "    print(\"target을 찾았습니다.\")\n",
    "    break"
   ]
  },
  {
   "cell_type": "code",
   "execution_count": 11,
   "metadata": {},
   "outputs": [
    {
     "name": "stdout",
     "output_type": "stream",
     "text": [
      "8448728\n",
      "8000040\n"
     ]
    }
   ],
   "source": [
    "import sys\n",
    "\n",
    "list_ = [i for i in range(10**6)]\n",
    "print(sys.getsizeof(list_))\n",
    "\n",
    "tuple_ = tuple(list_)\n",
    "print(sys.getsizeof(tuple_))"
   ]
  },
  {
   "cell_type": "code",
   "execution_count": 12,
   "metadata": {},
   "outputs": [],
   "source": [
    "array = [1, 2, 3, 4, 5]\n",
    "\n",
    "# 연결 리스트\n",
    "# 뒤의 노드에 대한 주소를 가진다\n",
    "list = [(1, 두번째 위치의 주소), (2, 세번째 위치의 주소), ....]\n",
    "\n",
    "# 양방향 연결 리스트\n",
    "# 앞 뒤 노드에 대한 주소를 가진다\n",
    "double_list = [(1, 두번째 위치의 주소), (첫번째 위치의 주소, 2, 세번째 위치의 주소)]\n"
   ]
  },
  {
   "cell_type": "code",
   "execution_count": 18,
   "metadata": {},
   "outputs": [
    {
     "name": "stdout",
     "output_type": "stream",
     "text": [
      "0\n",
      "[1, 2, 3, 4, 5]\n",
      "15\n",
      "1\n",
      "[2, 3, 4, 5, 6]\n",
      "20\n",
      "2\n",
      "[3, 4, 5, 6, 7]\n",
      "25\n",
      "3\n",
      "[4, 5, 6, 7, 8]\n",
      "30\n",
      "4\n",
      "[5, 6, 7, 8, 9]\n",
      "35\n",
      "5\n",
      "[6, 7, 8, 9, 10]\n",
      "40\n"
     ]
    }
   ],
   "source": [
    "# 구간 합 알고리즘\n",
    "# 구간의 길이\n",
    "K = 5\n",
    "numbers = [1, 2, 3, 4, 5, 6, 7, 8, 9, 10]\n",
    "\n",
    "for i in range(len(numbers) - K + 1):\n",
    "  # 구간의 시작 좌표\n",
    "  print(i)\n",
    "  \n",
    "  # 구간 길이 만큼의 리스트 슬라이싱\n",
    "  # split_list = numbers[i:i+K]\n",
    "  \n",
    "  split_list = []\n",
    "  for j in range(i, i + K):\n",
    "    split_list.append(numbers[j])\n",
    "  \n",
    "  # 구간 리스트\n",
    "  print(split_list)\n",
    "  \n",
    "  # 구간 합\n",
    "  print(sum(split_list))\n",
    "  \n",
    "# 시간 복잡도 0(n)"
   ]
  },
  {
   "cell_type": "code",
   "execution_count": 27,
   "metadata": {},
   "outputs": [
    {
     "name": "stdout",
     "output_type": "stream",
     "text": [
      "15\n",
      "20\n",
      "25\n",
      "30\n",
      "35\n",
      "40\n",
      "1\n",
      "0\n",
      "-6\n",
      "1\n",
      "-13\n",
      "2\n",
      "-9\n",
      "3\n",
      "3\n",
      "4\n",
      "10\n",
      "5\n",
      "20\n",
      "6\n",
      "21\n",
      "7\n",
      "5\n",
      "21\n"
     ]
    }
   ],
   "source": [
    "# 더 효율적인 구간합 알고리즘\n",
    "# 슬라이딩 윈도우 알고리즘\n",
    "\n",
    "# 첫 번째 구간의 합\n",
    "K = 5\n",
    "numbers = [1, 2, 3, 4, 5, 6, 7, 8, 9, 10]\n",
    "split_sum = sum(numbers[0 : 0 + K])\n",
    "print(split_sum)\n",
    "\n",
    "for i in range(len(numbers) - K):\n",
    "  # 기준 위치 i\n",
    "  split_sum = split_sum - numbers[i] + numbers[i + K]\n",
    "  print(split_sum)\n",
    "\n",
    "# 슬라이딩 윈도우는 구간의 최대값/최소값을 구하는데 활용\n",
    "\n",
    "# 구간합 중 가장 큰 값을 구하라\n",
    "numbers = [3, -2, -4, -9, 0, 3, 7, 13, 8, -3]\n",
    "N = 10\n",
    "K = 2\n",
    "\n",
    "\"\"\"백준용 입력 코드\n",
    "  N, K = list(map(int, input().split()))\n",
    "  numbers = list(map(int, input().split()))\n",
    "\"\"\"\n",
    "\n",
    "# 슬라이딩 윈도우를 위한 첫 구간의 합\n",
    "split_sum1 = sum(numbers[:K])\n",
    "print(split_sum1)\n",
    "\n",
    "# 모든 구간 합을 리스트에 저장 후 max 함수 사용\n",
    "# 첫 번째 구간 합도 저장해야 한다\n",
    "answer_list = [split_sum1]\n",
    "\n",
    "# 기준 위치 i를 순회할 반복문\n",
    "# 0 -> N - K\n",
    "for i in range(0, N - K):\n",
    "  print(i)\n",
    "  split_sum1 = split_sum1 - numbers[i] + numbers[i + K]\n",
    "  print(split_sum1)\n",
    "  answer_list.append(split_sum1)\n",
    "\n",
    "# 리스트에 저장된 원소 중 가장 큰 값을 출력\n",
    "print(max(answer_list))\n",
    "\n",
    "\n",
    "# 가장 큰 값을 갱신하는 방법\n",
    "# 임의의 가장 큰 값\n",
    "max_number = 0\n",
    "\n",
    "numbers = [1, 2, 3, 4, 5]\n",
    "for number in numbers:\n",
    "  # 임의의 가장 큰 값보다 원소가 더 크다면 값을 갱신\n",
    "  if max_number < number:\n",
    "      max_number = number\n",
    "      \n",
    "# 가장 큰 값, 양의 무한대\n",
    "max_number = float('inf')\n",
    "\n",
    "# 가장 작은 값, 음의 무한대\n",
    "min_number = float('inf')\n"
   ]
  }
 ],
 "metadata": {
  "kernelspec": {
   "display_name": "Python 3",
   "language": "python",
   "name": "python3"
  },
  "language_info": {
   "codemirror_mode": {
    "name": "ipython",
    "version": 3
   },
   "file_extension": ".py",
   "mimetype": "text/x-python",
   "name": "python",
   "nbconvert_exporter": "python",
   "pygments_lexer": "ipython3",
   "version": "3.12.6"
  }
 },
 "nbformat": 4,
 "nbformat_minor": 2
}
